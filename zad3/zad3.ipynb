{
 "cells": [
  {
   "cell_type": "markdown",
   "metadata": {},
   "source": [
    "## Moja średnia ze wszystkich przedmiotów\n",
    "\n",
    "Moja średnia ze wszystkich przedmiotów"
   ]
  },
  {
   "cell_type": "code",
   "execution_count": 3,
   "metadata": {},
   "outputs": [],
   "source": [
    "biol_mech_zach=5.0\n",
    "filozofia=5.0\n",
    "jez_ang=5.0\n",
    "metodologia=5.0\n",
    "logika=5.0\n",
    "neuroanatomia=5.0\n",
    "statystyka=5.0\n",
    "wpr_do_kom=4.0\n",
    "trening_int=4.0\n",
    "psychologia=4.0\n",
    "przeglad=4.0"
   ]
  },
  {
   "cell_type": "code",
   "execution_count": 7,
   "metadata": {},
   "outputs": [],
   "source": [
    "suma =biol_mech_zach+filozofia+jez_ang+metodologia+logika+neuroanatomia+statystyka+wpr_do_kom+trening_int+psychologia+przeglad\n",
    "srednia = suma / 11"
   ]
  },
  {
   "cell_type": "code",
   "execution_count": 8,
   "metadata": {},
   "outputs": [
    {
     "name": "stdout",
     "output_type": "stream",
     "text": [
      "4.636363636363637\n"
     ]
    }
   ],
   "source": [
    "print (srednia)"
   ]
  },
  {
   "cell_type": "code",
   "execution_count": null,
   "metadata": {},
   "outputs": [],
   "source": [
    "print(\"Moja średnia w pierwszym semestrze studiów to \")"
   ]
  }
 ],
 "metadata": {
  "kernelspec": {
   "display_name": "Python 3",
   "language": "python",
   "name": "python3"
  },
  "language_info": {
   "codemirror_mode": {
    "name": "ipython",
    "version": 3
   },
   "file_extension": ".py",
   "mimetype": "text/x-python",
   "name": "python",
   "nbconvert_exporter": "python",
   "pygments_lexer": "ipython3",
   "version": "3.7.0"
  }
 },
 "nbformat": 4,
 "nbformat_minor": 2
}
