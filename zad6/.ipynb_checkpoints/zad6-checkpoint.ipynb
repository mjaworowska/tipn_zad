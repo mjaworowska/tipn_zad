{
 "cells": [
  {
   "cell_type": "markdown",
   "metadata": {},
   "source": [
    "# Czy jesteś ostatnio jakiś spokojny? Może podoba Ci się życie? \n",
    "\n",
    "# Już dziś sprawdź co Ci dolega!\n",
    "\n",
    "#### Rozwiąż poniższy test. Skala jest pięciostopniowa:\n",
    "\n",
    "1 - zupełnie się nie zgadzam\n",
    "\n",
    "2 - raczej się nie zgadzam\n",
    "\n",
    "3 - tak jak meduzy - dryfuję sobie i nie mam zdania\n",
    "\n",
    "4 - raczej się zgadzam\n",
    "\n",
    "5 - całkowicię się zgadzam / hell yea!\n",
    "\n"
   ]
  },
  {
   "cell_type": "code",
   "execution_count": 1,
   "metadata": {},
   "outputs": [],
   "source": [
    "pytania=[]\n",
    "jeden = '1. Anecdotal evidence nie powinno być brane na poważnie, liczą sie tylko dowody naukowe.'\n",
    "pytania.append(jeden)\n",
    "dwa = '2. Do badań naukowych nad depresją, ludzie są brani na podstawie diagnozy postawionej w oparciu o anecdotal evidence.'\n",
    "pytania.append(dwa)\n",
    "trzy = '3. Jeśli grupa badana jest dobierana poprzez anecdotal evidence to badania naukowe/ wyniki nie są niezawodne.'\n",
    "pytania.append(trzy)\n",
    "cztery = '4. Większość badań naukowych z dziedziny psychologii jest na fundamencie anecdotal evidence.'\n",
    "pytania.append(cztery)\n",
    "piec = '5. Wyrażam sprzeciw. To miał być zabawny test.'\n",
    "pytania.append(piec)"
   ]
  },
  {
   "cell_type": "code",
   "execution_count": 2,
   "metadata": {},
   "outputs": [],
   "source": [
    "def zadaj_pytanie(jeden):\n",
    "    print(jeden)\n",
    "    print(\"Udziel odpowiedzi w skali od 1 do 5.\")\n",
    "    odp = input (\"Odpowiedź:\")\n",
    "    odp = int(odp)\n",
    "    return odp"
   ]
  },
  {
   "cell_type": "code",
   "execution_count": 3,
   "metadata": {},
   "outputs": [
    {
     "name": "stdout",
     "output_type": "stream",
     "text": [
      "1. Anecdotal evidence nie powinno być brane na poważnie, liczą sie tylko dowody naukowe.\n",
      "Udziel odpowiedzi w skali od 1 do 5.\n"
     ]
    },
    {
     "name": "stdin",
     "output_type": "stream",
     "text": [
      "Odpowiedź: 5\n"
     ]
    },
    {
     "name": "stdout",
     "output_type": "stream",
     "text": [
      "2. Do badań naukowych nad depresją, ludzie są brani na podstawie diagnozy postawionej w oparciu o anecdotal evidence.\n",
      "Udziel odpowiedzi w skali od 1 do 5.\n"
     ]
    },
    {
     "name": "stdin",
     "output_type": "stream",
     "text": [
      "Odpowiedź: 5\n"
     ]
    },
    {
     "name": "stdout",
     "output_type": "stream",
     "text": [
      "3. Jeśli grupa badana jest dobierana poprzez anecdotal evidence to badania naukowe/ wyniki nie są niezawodne.\n",
      "Udziel odpowiedzi w skali od 1 do 5.\n"
     ]
    },
    {
     "name": "stdin",
     "output_type": "stream",
     "text": [
      "Odpowiedź: 5\n"
     ]
    },
    {
     "name": "stdout",
     "output_type": "stream",
     "text": [
      "4. Większość badań naukowych z dziedziny psychologii jest na fundamencie anecdotal evidence.\n",
      "Udziel odpowiedzi w skali od 1 do 5.\n"
     ]
    },
    {
     "name": "stdin",
     "output_type": "stream",
     "text": [
      "Odpowiedź: 5\n"
     ]
    },
    {
     "name": "stdout",
     "output_type": "stream",
     "text": [
      "5. Wyrażam sprzeciw. To miał być zabawny test.\n",
      "Udziel odpowiedzi w skali od 1 do 5.\n"
     ]
    },
    {
     "name": "stdin",
     "output_type": "stream",
     "text": [
      "Odpowiedź: 5\n"
     ]
    },
    {
     "name": "stdout",
     "output_type": "stream",
     "text": [
      "Twój wynik to: 25  Twoja diagnoza: Transformacja w nietoperza. Zalecenia: Pasami i gwożdziami do łóżka się przykuj.\n",
      "   That's all Folks!\n"
     ]
    }
   ],
   "source": [
    "odpowiedzi=[]\n",
    "odp=zadaj_pytanie(jeden)\n",
    "odpowiedzi.append(odp)\n",
    "odp=zadaj_pytanie(dwa)\n",
    "odpowiedzi.append(odp)\n",
    "odp=zadaj_pytanie(trzy)\n",
    "odpowiedzi.append(odp)\n",
    "odp=zadaj_pytanie(cztery)\n",
    "odpowiedzi.append(odp)\n",
    "odp=zadaj_pytanie(piec)\n",
    "odpowiedzi.append(odp)\n",
    "\n",
    "wynik=sum(odpowiedzi)\n",
    "wynik=int(wynik)\n",
    "\n",
    "if wynik <=25 and wynik > 20:\n",
    "    print('Twój wynik to:',wynik,\" Twoja diagnoza: Transformacja w nietoperza. Zalecenia: Pasami i gwożdziami do łóżka się przykuj.\" )\n",
    "elif wynik <=20 and wynik >15:\n",
    "    print('Twój wynik to:', wynik, ' Twoja diagnoza: Zapach pomarańczy Cię goni. Zalecenia: Wodą je i wszystko będzie dobrze.')\n",
    "elif wynik <=15 and wynik > 10:\n",
    "    print('Twój wynik to:', wynik, ' Twoja diagnoza: Uszy więdną, a nogi marzną. Zalecenia: Więcej łaskotek.')\n",
    "elif wynik <=10 and wynik >=5:\n",
    "    print('Twój wynik to:', wynik, \" Twoja diagnoza: Kichasz motylami i płaczesz gąsienicami. Zalecenia: Brak. Nic nie poradzisz.\" )\n",
    "    \n",
    "print(\"   That's all Folks!\")"
   ]
  },
  {
   "cell_type": "code",
   "execution_count": null,
   "metadata": {},
   "outputs": [],
   "source": []
  }
 ],
 "metadata": {
  "kernelspec": {
   "display_name": "Python 3",
   "language": "python",
   "name": "python3"
  },
  "language_info": {
   "codemirror_mode": {
    "name": "ipython",
    "version": 3
   },
   "file_extension": ".py",
   "mimetype": "text/x-python",
   "name": "python",
   "nbconvert_exporter": "python",
   "pygments_lexer": "ipython3",
   "version": "3.7.0"
  }
 },
 "nbformat": 4,
 "nbformat_minor": 2
}
